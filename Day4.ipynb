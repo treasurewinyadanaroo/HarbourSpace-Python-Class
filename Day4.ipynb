{
 "cells": [
  {
   "cell_type": "code",
   "execution_count": null,
   "metadata": {},
   "outputs": [],
   "source": [
    "#not, and, or\n",
    "not True\n",
    "not False\n",
    "\n",
    "# and\n",
    "\n",
    "True and True\n",
    "False and True\n",
    "False and False\n",
    "\n",
    "# or\n",
    "# Me or You go to school\n",
    "True or True\n",
    "False or True\n",
    "True or False\n",
    "False or False\n",
    "\n"
   ]
  },
  {
   "cell_type": "code",
   "execution_count": 3,
   "metadata": {},
   "outputs": [],
   "source": [
    "user_input = int(input(\"enter your room tem : \"))\n",
    "F = (user_input * 9/5) + 32\n",
    "\n",
    "print(F)"
   ]
  },
  {
   "cell_type": "code",
   "execution_count": 11,
   "metadata": {},
   "outputs": [
    {
     "name": "stdout",
     "output_type": "stream",
     "text": [
      "68.9\n"
     ]
    }
   ],
   "source": [
    "user_input = float(input(\"enter your room tem : \"))\n",
    "F = (user_input * 9/5) + 32\n",
    "print(F)"
   ]
  },
  {
   "cell_type": "code",
   "execution_count": 19,
   "metadata": {},
   "outputs": [
    {
     "name": "stdout",
     "output_type": "stream",
     "text": [
      "36.111111111111114\n"
     ]
    }
   ],
   "source": [
    "user_input = float(input(\"enter your room tem : \"))\n",
    "C = (user_input - 32) * 5/9 \n",
    "\n",
    "print(C)"
   ]
  },
  {
   "cell_type": "code",
   "execution_count": 20,
   "metadata": {},
   "outputs": [
    {
     "name": "stdout",
     "output_type": "stream",
     "text": [
      "86.0\n"
     ]
    }
   ],
   "source": [
    "#  Celsius to Fahrenheit\n",
    "\n",
    "Celsius = float(input(\"Enter your room tempereature \"))\n",
    "Fahrenheit = (Celsius * 9/5) + 32\n",
    "print(Fahrenheit)"
   ]
  },
  {
   "cell_type": "code",
   "execution_count": 21,
   "metadata": {},
   "outputs": [],
   "source": [
    "import turtle"
   ]
  },
  {
   "cell_type": "code",
   "execution_count": null,
   "metadata": {},
   "outputs": [],
   "source": []
  }
 ],
 "metadata": {
  "kernelspec": {
   "display_name": "hs-codeclass",
   "language": "python",
   "name": "python3"
  },
  "language_info": {
   "codemirror_mode": {
    "name": "ipython",
    "version": 3
   },
   "file_extension": ".py",
   "mimetype": "text/x-python",
   "name": "python",
   "nbconvert_exporter": "python",
   "pygments_lexer": "ipython3",
   "version": "3.12.4"
  }
 },
 "nbformat": 4,
 "nbformat_minor": 2
}
